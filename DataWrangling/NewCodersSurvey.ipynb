{
 "cells": [
  {
   "cell_type": "code",
   "execution_count": 1,
   "metadata": {},
   "outputs": [],
   "source": [
    "import sys\n",
    "\n",
    "import sklearn\n",
    "import pandas as pd\n",
    "import matplotlib as mpl\n",
    "import matplotlib.pyplot as plt\n",
    "import seaborn as sns\n",
    "\n",
    "%matplotlib inline"
   ]
  },
  {
   "cell_type": "code",
   "execution_count": 2,
   "metadata": {},
   "outputs": [],
   "source": [
    "code_survey = pd.read_csv('data/2016-FCC-New-Coders-Survey-Data.csv', dtype='unicode')"
   ]
  },
  {
   "cell_type": "code",
   "execution_count": 3,
   "metadata": {
    "scrolled": true
   },
   "outputs": [
    {
     "name": "stdout",
     "output_type": "stream",
     "text": [
      "code_survey: (15620, 113)\n"
     ]
    }
   ],
   "source": [
    "print('code_survey:', code_survey.shape)"
   ]
  },
  {
   "cell_type": "markdown",
   "metadata": {},
   "source": [
    "**Let`s explore the data set:**"
   ]
  },
  {
   "cell_type": "code",
   "execution_count": 4,
   "metadata": {},
   "outputs": [
    {
     "name": "stdout",
     "output_type": "stream",
     "text": [
      "  Age AttendedBootcamp BootcampFinish BootcampFullJobAfter BootcampLoanYesNo  \\\n",
      "0  28                0            NaN                  NaN               NaN   \n",
      "1  22                0            NaN                  NaN               NaN   \n",
      "2  19                0            NaN                  NaN               NaN   \n",
      "3  26                0            NaN                  NaN               NaN   \n",
      "4  20                0            NaN                  NaN               NaN   \n",
      "\n",
      "  BootcampMonthsAgo BootcampName BootcampPostSalary BootcampRecommend  \\\n",
      "0               NaN          NaN                NaN               NaN   \n",
      "1               NaN          NaN                NaN               NaN   \n",
      "2               NaN          NaN                NaN               NaN   \n",
      "3               NaN          NaN                NaN               NaN   \n",
      "4               NaN          NaN                NaN               NaN   \n",
      "\n",
      "  ChildrenNumber      ...       ResourceSoloLearn ResourceStackOverflow  \\\n",
      "0            NaN      ...                     NaN                   NaN   \n",
      "1            NaN      ...                     NaN                   NaN   \n",
      "2            NaN      ...                     NaN                   NaN   \n",
      "3            NaN      ...                     NaN                   NaN   \n",
      "4            NaN      ...                     NaN                   NaN   \n",
      "\n",
      "  ResourceTreehouse ResourceUdacity ResourceUdemy ResourceW3Schools  \\\n",
      "0               NaN             NaN           NaN               NaN   \n",
      "1               NaN             NaN             1               NaN   \n",
      "2               NaN             NaN           NaN               NaN   \n",
      "3               NaN             NaN           NaN               NaN   \n",
      "4               NaN             NaN           NaN               NaN   \n",
      "\n",
      "  ResourceYouTube                             SchoolDegree  \\\n",
      "0             NaN           some college credit, no degree   \n",
      "1             NaN           some college credit, no degree   \n",
      "2             NaN  high school diploma or equivalent (GED)   \n",
      "3             NaN                        bachelor's degree   \n",
      "4             NaN           some college credit, no degree   \n",
      "\n",
      "               SchoolMajor StudentDebtOwe  \n",
      "0                      NaN          20000  \n",
      "1                      NaN            NaN  \n",
      "2                      NaN            NaN  \n",
      "3  Cinematography And Film           7000  \n",
      "4                      NaN            NaN  \n",
      "\n",
      "[5 rows x 113 columns]\n"
     ]
    }
   ],
   "source": [
    "print(code_survey.head(n=5))"
   ]
  },
  {
   "cell_type": "markdown",
   "metadata": {},
   "source": [
    "**It seems like that most of the values can be encoded, using OneHotEncoder as they are categorical.**"
   ]
  },
  {
   "cell_type": "code",
   "execution_count": 5,
   "metadata": {},
   "outputs": [
    {
     "data": {
      "text/plain": [
       "Part1StartTime                      0\n",
       "NetworkID                           0\n",
       "Part1EndTime                        0\n",
       "ID.x                                0\n",
       "IsSoftwareDev                      83\n",
       "AttendedBootcamp                  240\n",
       "MonthsProgramming                 606\n",
       "HoursLearning                     678\n",
       "MoneyForLearning                  941\n",
       "Part2StartTime                   1692\n",
       "Part2EndTime                     1692\n",
       "ID.y                             1692\n",
       "Gender                           1874\n",
       "SchoolDegree                     1941\n",
       "CountryCitizen                   1966\n",
       "IsEthnicMinority                 1975\n",
       "HasFinancialDependents           1980\n",
       "CityPopulation                   1990\n",
       "HasHighSpdInternet               1995\n",
       "Age                              2007\n",
       "CountryLive                      2010\n",
       "HasDebt                          2010\n",
       "LanguageAtHome                   2038\n",
       "HasServedInMilitary              2070\n",
       "IsReceiveDiabilitiesBenefits     2090\n",
       "EmploymentStatus                 2716\n",
       "JobPref                          4431\n",
       "PodcastNone                      4580\n",
       "ResourceFCC                      4683\n",
       "ResourceCodecademy               6034\n",
       "                                ...  \n",
       "CodeEventRailsBridge            15365\n",
       "JobRoleInterestOther            15421\n",
       "ResourceStackOverflow           15429\n",
       "ResourceLynda                   15470\n",
       "ResourceBooks                   15476\n",
       "ResourceW3Schools               15499\n",
       "ResourceYouTube                 15499\n",
       "PodcastShopTalk                 15537\n",
       "PodcastDeveloperTea             15540\n",
       "PodcastRubyRogues               15541\n",
       "ResourceGoogle                  15565\n",
       "CodeEventBootcamp               15578\n",
       "PodcastTalkPython               15579\n",
       "ResourceSkillCrush              15584\n",
       "PodcastProgrammingThrowDown     15586\n",
       "ResourceBlogs                   15590\n",
       "ResourceHackerRank              15590\n",
       "ResourceSoloLearn               15590\n",
       "ResourceEggHead                 15591\n",
       "ResourceReddit                  15591\n",
       "PodcastJsAir                    15591\n",
       "ResourceMDN                     15594\n",
       "CodeEventWorkshop               15597\n",
       "CodeEventGameJam                15598\n",
       "PodcastHanselminutes            15601\n",
       "PodcastDotNetRocks              15602\n",
       "CodeEventDjangoGirls            15602\n",
       "PodcastCodingBlocks             15604\n",
       "PodcastWebAhead                 15605\n",
       "CodeEventRailsGirls             15606\n",
       "Length: 113, dtype: int64"
      ]
     },
     "execution_count": 5,
     "metadata": {},
     "output_type": "execute_result"
    }
   ],
   "source": [
    "code_survey.isnull().sum().sort_values()"
   ]
  },
  {
   "cell_type": "markdown",
   "metadata": {},
   "source": [
    "**Looks like there are plenty of NA values in the data set. Let`s explore further:**"
   ]
  },
  {
   "cell_type": "code",
   "execution_count": 22,
   "metadata": {},
   "outputs": [
    {
     "data": {
      "text/plain": [
       "count    15620.000000\n",
       "mean        29.175421\n",
       "std          8.418427\n",
       "min         10.000000\n",
       "25%         24.000000\n",
       "50%         29.000000\n",
       "75%         32.000000\n",
       "max         86.000000\n",
       "Name: Age, dtype: float64"
      ]
     },
     "execution_count": 22,
     "metadata": {},
     "output_type": "execute_result"
    }
   ],
   "source": [
    "code_survey.Age.describe()"
   ]
  },
  {
   "cell_type": "markdown",
   "metadata": {},
   "source": [
    "**The youngest one is 10 years old and the oldest one 86, also the mean age is 29**"
   ]
  },
  {
   "cell_type": "markdown",
   "metadata": {},
   "source": [
    "**Let`s bin the ages according to age groups:**"
   ]
  },
  {
   "cell_type": "code",
   "execution_count": 27,
   "metadata": {},
   "outputs": [
    {
     "data": {
      "image/png": "[encoded data removed]",
      "text/plain": [
       "<matplotlib.figure.Figure at 0x7f463985a898>"
      ]
     },
     "metadata": {},
     "output_type": "display_data"
    }
   ],
   "source": [
    "code_survey[\"Age\"] = code_survey[\"Age\"].apply(pd.to_numeric)\n",
    "# Fill NA values with the mean:\n",
    "code_survey[\"Age\"] = code_survey[\"Age\"].fillna(code_survey[\"Age\"].mean())\n",
    "age = pd.DataFrame(code_survey[\"Age\"])\n",
    "age_groups = [10, 20, 30, 40, 50, 80]\n",
    "group_names = ['10-20', '20-30', '30-40', '40-50', '50-80']\n",
    "categories = pd.cut(df[\"Age\"], age_groups, labels=group_names)\n",
    "categories.value_counts().plot(kind=\"bar\");"
   ]
  },
  {
   "cell_type": "code",
   "execution_count": null,
   "metadata": {},
   "outputs": [],
   "source": []
  },
  {
   "cell_type": "code",
   "execution_count": null,
   "metadata": {},
   "outputs": [],
   "source": []
  }
 ],
 "metadata": {
  "kernelspec": {
   "display_name": "Python 3",
   "language": "python",
   "name": "python3"
  },
  "language_info": {
   "codemirror_mode": {
    "name": "ipython",
    "version": 3
   },
   "file_extension": ".py",
   "mimetype": "text/x-python",
   "name": "python",
   "nbconvert_exporter": "python",
   "pygments_lexer": "ipython3",
   "version": "3.5.2"
  }
 },
 "nbformat": 4,
 "nbformat_minor": 2
}
