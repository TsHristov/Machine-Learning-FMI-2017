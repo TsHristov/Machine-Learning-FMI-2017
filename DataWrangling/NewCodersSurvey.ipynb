{
 "cells": [
  {
   "cell_type": "code",
   "execution_count": 1,
   "metadata": {},
   "outputs": [],
   "source": [
    "import sys\n",
    "\n",
    "import sklearn\n",
    "import pandas as pd\n",
    "import matplotlib as mpl\n",
    "import matplotlib.pyplot as plt\n",
    "import seaborn as sns\n",
    "\n",
    "%matplotlib inline"
   ]
  },
  {
   "cell_type": "code",
   "execution_count": 2,
   "metadata": {},
   "outputs": [],
   "source": [
    "code_survey = pd.read_csv('data/2016-FCC-New-Coders-Survey-Data.csv', dtype='unicode')"
   ]
  },
  {
   "cell_type": "code",
   "execution_count": 3,
   "metadata": {
    "scrolled": true
   },
   "outputs": [
    {
     "name": "stdout",
     "output_type": "stream",
     "text": [
      "code_survey: (15620, 113)\n"
     ]
    }
   ],
   "source": [
    "print('code_survey:', code_survey.shape)"
   ]
  },
  {
   "cell_type": "markdown",
   "metadata": {},
   "source": [
    "**Let`s explore the data set:**"
   ]
  },
  {
   "cell_type": "code",
   "execution_count": 46,
   "metadata": {},
   "outputs": [
    {
     "name": "stdout",
     "output_type": "stream",
     "text": [
      "Age\n"
     ]
    }
   ],
   "source": [
    "for column in code_survey.columns:\n",
    "    if code_survey[column].dtype != \"object\":\n",
    "        print(column)"
   ]
  },
  {
   "cell_type": "markdown",
   "metadata": {},
   "source": [
    "**It seems like that most of the values can be encoded, using OneHotEncoder as they are categorical.**"
   ]
  },
  {
   "cell_type": "code",
   "execution_count": 5,
   "metadata": {},
   "outputs": [
    {
     "data": {
      "text/plain": [
       "Part1StartTime                      0\n",
       "NetworkID                           0\n",
       "Part1EndTime                        0\n",
       "ID.x                                0\n",
       "IsSoftwareDev                      83\n",
       "AttendedBootcamp                  240\n",
       "MonthsProgramming                 606\n",
       "HoursLearning                     678\n",
       "MoneyForLearning                  941\n",
       "Part2StartTime                   1692\n",
       "Part2EndTime                     1692\n",
       "ID.y                             1692\n",
       "Gender                           1874\n",
       "SchoolDegree                     1941\n",
       "CountryCitizen                   1966\n",
       "IsEthnicMinority                 1975\n",
       "HasFinancialDependents           1980\n",
       "CityPopulation                   1990\n",
       "HasHighSpdInternet               1995\n",
       "Age                              2007\n",
       "CountryLive                      2010\n",
       "HasDebt                          2010\n",
       "LanguageAtHome                   2038\n",
       "HasServedInMilitary              2070\n",
       "IsReceiveDiabilitiesBenefits     2090\n",
       "EmploymentStatus                 2716\n",
       "JobPref                          4431\n",
       "PodcastNone                      4580\n",
       "ResourceFCC                      4683\n",
       "ResourceCodecademy               6034\n",
       "                                ...  \n",
       "CodeEventRailsBridge            15365\n",
       "JobRoleInterestOther            15421\n",
       "ResourceStackOverflow           15429\n",
       "ResourceLynda                   15470\n",
       "ResourceBooks                   15476\n",
       "ResourceW3Schools               15499\n",
       "ResourceYouTube                 15499\n",
       "PodcastShopTalk                 15537\n",
       "PodcastDeveloperTea             15540\n",
       "PodcastRubyRogues               15541\n",
       "ResourceGoogle                  15565\n",
       "CodeEventBootcamp               15578\n",
       "PodcastTalkPython               15579\n",
       "ResourceSkillCrush              15584\n",
       "PodcastProgrammingThrowDown     15586\n",
       "ResourceBlogs                   15590\n",
       "ResourceHackerRank              15590\n",
       "ResourceSoloLearn               15590\n",
       "ResourceEggHead                 15591\n",
       "ResourceReddit                  15591\n",
       "PodcastJsAir                    15591\n",
       "ResourceMDN                     15594\n",
       "CodeEventWorkshop               15597\n",
       "CodeEventGameJam                15598\n",
       "PodcastHanselminutes            15601\n",
       "PodcastDotNetRocks              15602\n",
       "CodeEventDjangoGirls            15602\n",
       "PodcastCodingBlocks             15604\n",
       "PodcastWebAhead                 15605\n",
       "CodeEventRailsGirls             15606\n",
       "Length: 113, dtype: int64"
      ]
     },
     "execution_count": 5,
     "metadata": {},
     "output_type": "execute_result"
    }
   ],
   "source": [
    "code_survey.isnull().sum().sort_values()"
   ]
  },
  {
   "cell_type": "markdown",
   "metadata": {},
   "source": [
    "**Looks like there are plenty of NA values in the data set. Let`s explore further:**"
   ]
  },
  {
   "cell_type": "code",
   "execution_count": 22,
   "metadata": {},
   "outputs": [
    {
     "data": {
      "text/plain": [
       "count    15620.000000\n",
       "mean        29.175421\n",
       "std          8.418427\n",
       "min         10.000000\n",
       "25%         24.000000\n",
       "50%         29.000000\n",
       "75%         32.000000\n",
       "max         86.000000\n",
       "Name: Age, dtype: float64"
      ]
     },
     "execution_count": 22,
     "metadata": {},
     "output_type": "execute_result"
    }
   ],
   "source": [
    "code_survey.Age.describe()"
   ]
  },
  {
   "cell_type": "markdown",
   "metadata": {},
   "source": [
    "**The youngest one is 10 years old and the oldest one 86, also the mean age is 29**"
   ]
  },
  {
   "cell_type": "markdown",
   "metadata": {},
   "source": [
    "**Let`s bin the ages according to age groups:**"
   ]
  },
  {
   "cell_type": "code",
   "execution_count": 105,
   "metadata": {},
   "outputs": [
    {
     "data": {
      "image/png": "[encoded data removed]",
      "text/plain": [
       "<matplotlib.figure.Figure at 0x7f4638dfc470>"
      ]
     },
     "metadata": {},
     "output_type": "display_data"
    }
   ],
   "source": [
    "code_survey[\"Age\"] = code_survey[\"Age\"].apply(pd.to_numeric)\n",
    "# Fill NA values with the mean:\n",
    "code_survey[\"Age\"] = code_survey[\"Age\"].fillna(code_survey[\"Age\"].mean())\n",
    "age = pd.DataFrame(code_survey[\"Age\"])\n",
    "age_groups = [10, 20, 30, 40, 50, 80]\n",
    "group_names = ['10-20', '20-30', '30-40', '40-50', '50-80']\n",
    "categories = pd.cut(df[\"Age\"], age_groups, labels=group_names)\n",
    "categories.value_counts().plot.pie(figsize=(6,6), title=\"Age Groups\", fontsize=14);"
   ]
  },
  {
   "cell_type": "code",
   "execution_count": 113,
   "metadata": {},
   "outputs": [
    {
     "data": {
      "image/png": "[encoded data removed]",
      "text/plain": [
       "<matplotlib.figure.Figure at 0x7f463906af28>"
      ]
     },
     "metadata": {},
     "output_type": "display_data"
    }
   ],
   "source": [
    "code_survey[\"Gender\"].value_counts().plot.area(stacked=False, title=\"Genders\", fontsize=14);"
   ]
  },
  {
   "cell_type": "code",
   "execution_count": 136,
   "metadata": {},
   "outputs": [
    {
     "data": {
      "image/png": "[encoded data removed]",
      "text/plain": [
       "<matplotlib.figure.Figure at 0x7f4638a2b8d0>"
      ]
     },
     "metadata": {},
     "output_type": "display_data"
    }
   ],
   "source": [
    "code_survey[\"CityPopulation\"].value_counts().plot(kind=\"barh\", fontsize=14, title=\"City Population\");"
   ]
  },
  {
   "cell_type": "code",
   "execution_count": null,
   "metadata": {},
   "outputs": [],
   "source": []
  }
 ],
 "metadata": {
  "kernelspec": {
   "display_name": "Python 3",
   "language": "python",
   "name": "python3"
  },
  "language_info": {
   "codemirror_mode": {
    "name": "ipython",
    "version": 3
   },
   "file_extension": ".py",
   "mimetype": "text/x-python",
   "name": "python",
   "nbconvert_exporter": "python",
   "pygments_lexer": "ipython3",
   "version": "3.5.2"
  }
 },
 "nbformat": 4,
 "nbformat_minor": 2
}
